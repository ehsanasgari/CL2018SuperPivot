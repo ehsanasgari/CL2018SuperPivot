{
 "cells": [
  {
   "cell_type": "markdown",
   "metadata": {},
   "source": [
    "## Running FastAling"
   ]
  },
  {
   "cell_type": "code",
   "execution_count": 5,
   "metadata": {},
   "outputs": [],
   "source": [
    "import sys\n",
    "sys.path.append('../')\n",
    "from utility.file_utility import FileUtility\n",
    "from alignment.fastalign_utility import FastAlignUtility"
   ]
  },
  {
   "cell_type": "markdown",
   "metadata": {},
   "source": [
    "Take a look at the input file at \"dataset/english2german.txt\", English verses and their translations are separated by '|||' in each line. This is the input format for FastAlign"
   ]
  },
  {
   "cell_type": "code",
   "execution_count": 7,
   "metadata": {},
   "outputs": [
    {
     "data": {
      "text/plain": [
       "'This is a record of the ancestors of Jesus the Messiah , a descendant of David and of Abraham : ||| Das Buch der Geschichte Jesu Christi , des Sohnes Davids , des Sohnes Abrahams :'"
      ]
     },
     "execution_count": 7,
     "metadata": {},
     "output_type": "execute_result"
    }
   ],
   "source": [
    "# seeing the first line of the file\n",
    "FileUtility.load_list('dataset/english2german.txt')[0]"
   ]
  },
  {
   "cell_type": "markdown",
   "metadata": {},
   "source": [
    "<b>Alignment:</b> Let's run the FastAlign on this data now and generate the output in the output/ directory:"
   ]
  },
  {
   "cell_type": "code",
   "execution_count": 8,
   "metadata": {},
   "outputs": [],
   "source": [
    "FastAlignUtility.run_fastalign_file('dataset/english2german.txt','output/')"
   ]
  },
  {
   "cell_type": "markdown",
   "metadata": {},
   "source": [
    "Take a look at the output file at \"output/english2german_fwd.txt\" and \"output/english2german_rev.txt\", which are forward and reverse alignment results, i.e. English to German and German to English"
   ]
  },
  {
   "cell_type": "code",
   "execution_count": 9,
   "metadata": {},
   "outputs": [
    {
     "data": {
      "text/plain": [
       "'0-0 4-1 4-2 3-3 8-4 8-5 11-6 7-7 13-8 15-9 14-10 14-11 13-12 18-13 19-14'"
      ]
     },
     "execution_count": 9,
     "metadata": {},
     "output_type": "execute_result"
    }
   ],
   "source": [
    "# seeing the first line of the file\n",
    "FileUtility.load_list('output/english2german_fwd.align')[0]"
   ]
  },
  {
   "cell_type": "markdown",
   "metadata": {},
   "source": [
    "Similar to what you did before you are provided with the token IDs from English to German. This can be translated to:"
   ]
  },
  {
   "cell_type": "markdown",
   "metadata": {},
   "source": [
    "### Forward"
   ]
  },
  {
   "cell_type": "code",
   "execution_count": 16,
   "metadata": {},
   "outputs": [],
   "source": [
    "# input: the original parallel data and the alignment file \n",
    "# output: the word mapping\n",
    "FastAlignUtility.generate_word_alignemnts('dataset/english2german.txt','output/english2german_fwd.align','output/fwd_words.txt')"
   ]
  },
  {
   "cell_type": "code",
   "execution_count": 17,
   "metadata": {},
   "outputs": [
    {
     "data": {
      "text/plain": [
       "'This:Das of:Buch of:der record:Geschichte Jesus:Jesu Jesus:Christi ,:, of:des descendant:Sohnes David:Davids of:, of:des descendant:Sohnes Abraham:Abrahams :::'"
      ]
     },
     "execution_count": 17,
     "metadata": {},
     "output_type": "execute_result"
    }
   ],
   "source": [
    "# seeing the first line of the file\n",
    "FileUtility.load_list('output/fwd_words.txt')[0].replace('\\t',' ')"
   ]
  },
  {
   "cell_type": "markdown",
   "metadata": {},
   "source": [
    "### Backward"
   ]
  },
  {
   "cell_type": "code",
   "execution_count": 18,
   "metadata": {},
   "outputs": [],
   "source": [
    "# input: the original parallel data and the alignment file \n",
    "# output: the word mapping\n",
    "FastAlignUtility.generate_word_alignemnts('dataset/english2german.txt','output/english2german_rev.align','output/rev_words.txt')"
   ]
  },
  {
   "cell_type": "code",
   "execution_count": 19,
   "metadata": {},
   "outputs": [
    {
     "data": {
      "text/plain": [
       "'This:Das is:Das a:der record:Geschichte of:Buch the:der ancestors:Geschichte of:Christi Jesus:Jesu the:des Messiah:Davids ,:, descendant:Davids of:des David:Davids and:, of:Abrahams Abraham:Abrahams :::'"
      ]
     },
     "execution_count": 19,
     "metadata": {},
     "output_type": "execute_result"
    }
   ],
   "source": [
    "# seeing the first line of the file\n",
    "FileUtility.load_list('output/rev_words.txt')[0].replace('\\t',' ')"
   ]
  },
  {
   "cell_type": "markdown",
   "metadata": {},
   "source": [
    "### Excercise: write a code to find what words are aligned to 'was' and with which frequency?"
   ]
  },
  {
   "cell_type": "code",
   "execution_count": null,
   "metadata": {},
   "outputs": [],
   "source": []
  }
 ],
 "metadata": {
  "kernelspec": {
   "display_name": "Python 3.6",
   "language": "python",
   "name": "python_3.6"
  },
  "language_info": {
   "codemirror_mode": {
    "name": "ipython",
    "version": 3
   },
   "file_extension": ".py",
   "mimetype": "text/x-python",
   "name": "python",
   "nbconvert_exporter": "python",
   "pygments_lexer": "ipython3",
   "version": "3.6.5"
  }
 },
 "nbformat": 4,
 "nbformat_minor": 2
}
