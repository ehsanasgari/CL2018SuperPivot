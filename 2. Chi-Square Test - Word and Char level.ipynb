{
 "cells": [
  {
   "cell_type": "code",
   "execution_count": 8,
   "metadata": {},
   "outputs": [],
   "source": [
    "import sys\n",
    "sys.path.append('../')\n",
    "from utility.file_utility import FileUtility\n",
    "from alignment.fastalign_utility import FastAlignUtility\n",
    "from sklearn.feature_extraction.text import TfidfVectorizer\n",
    "from chi2analysis.chi2analysis import Chi2Analysis\n",
    "import itertools\n",
    "import codecs"
   ]
  },
  {
   "cell_type": "markdown",
   "metadata": {},
   "source": [
    "Similar to what we did in the first notebook now let's generate word alignment for the forward alignment again. "
   ]
  },
  {
   "cell_type": "code",
   "execution_count": 9,
   "metadata": {},
   "outputs": [],
   "source": [
    "FastAlignUtility.run_fastalign_file('dataset/english2german.txt','output/')\n",
    "FastAlignUtility.generate_word_alignemnts('dataset/english2german.txt','output/english2german_fwd.align','output/fwd_words.txt')"
   ]
  },
  {
   "cell_type": "markdown",
   "metadata": {},
   "source": [
    "This time we would like to use Chi-Square test to find the the words that are significantly correlated with the 'was'"
   ]
  },
  {
   "cell_type": "markdown",
   "metadata": {},
   "source": [
    "# Word-level Chi-Square"
   ]
  },
  {
   "cell_type": "code",
   "execution_count": 19,
   "metadata": {},
   "outputs": [],
   "source": [
    "def produce_labels(pairs):\n",
    "    '''\n",
    "    :param item:\n",
    "    :return: used by generate report\n",
    "    '''\n",
    "    global pos_words\n",
    "    if pairs.split(':')[0] in pos_words:\n",
    "        return [(1, pairs.split(':')[1])]\n",
    "    else:\n",
    "        return [(0, pairs.split(':')[1])]\n",
    "\n",
    "def Chi2Alignment(tagged_file, level):\n",
    "\n",
    "    if level=='word':\n",
    "        tfvec = TfidfVectorizer(use_idf=False, ngram_range=(1, 1), norm=None, stop_words=[], lowercase=True, binary=False)\n",
    "    elif level=='char':\n",
    "        tfvec = TfidfVectorizer(use_idf=False, ngram_range=(2, 6), norm=None, analyzer='char', stop_words=[], lowercase=True, binary=False)\n",
    "\n",
    "    tagged_word_reduced = list(itertools.chain(*[\n",
    "        [list(itertools.chain(*produce_labels(pairs))) for pairs in l.split()] for l\n",
    "        in codecs.open(tagged_file, 'r', 'utf-8').readlines()]))\n",
    "\n",
    "    if len(tagged_word_reduced) > 1:\n",
    "        if level=='char':\n",
    "            corp=['$'+item[1].strip()+'@' for item in tagged_word_reduced if len(item[1])>0]\n",
    "        else:\n",
    "            corp=[item[1] for item in tagged_word_reduced if len(item[1])>0]\n",
    "        X = tfvec.fit_transform(corp)\n",
    "        Y = [item[0] for item in tagged_word_reduced if len(item[1])>0]\n",
    "    feature_names = tfvec.get_feature_names()\n",
    "    CHA = Chi2Analysis(X, Y, feature_names)\n",
    "    res = CHA.extract_features_fdr('output/chi2_res.txt', 50)\n",
    "    return res"
   ]
  },
  {
   "cell_type": "code",
   "execution_count": 20,
   "metadata": {},
   "outputs": [],
   "source": [
    "global pos_words\n",
    "pos_words=['was']"
   ]
  },
  {
   "cell_type": "code",
   "execution_count": 21,
   "metadata": {},
   "outputs": [],
   "source": [
    "res=Chi2Alignment('output/fwd_words.txt', 'word')\n"
   ]
  },
  {
   "cell_type": "code",
   "execution_count": 22,
   "metadata": {},
   "outputs": [
    {
     "data": {
      "text/plain": [
       "[['wurde', 21720.05, 0.0, 247.0, 203.0, 1011.0, 203399.0],\n",
       " ['war', 19402.44, 0.0, 279.0, 360.0, 979.0, 203242.0],\n",
       " ['geriet', 1087.96, 1.3643309780469353e-238, 9.0, 3.0, 1249.0, 203599.0],\n",
       " ['begriff', 424.47, 2.5914390499432313e-94, 9.0, 21.0, 1249.0, 203581.0],\n",
       " ['pflegte', 362.4, 8.46538489828032e-81, 5.0, 6.0, 1253.0, 203596.0],\n",
       " ['worden', 349.04, 6.874968575342696e-78, 29.0, 311.0, 1229.0, 203291.0],\n",
       " ['dicht', 323.69, 2.274105886817308e-72, 2.0, 0.0, 1256.0, 203602.0],\n",
       " ['ehrfurchtsvoll', 323.69, 2.274105886817308e-72, 2.0, 0.0, 1256.0, 203602.0],\n",
       " ['fürchtete', 319.7, 1.6803180397175876e-71, 4.0, 4.0, 1254.0, 203598.0],\n",
       " ['fand', 290.81, 3.318721092523675e-65, 9.0, 34.0, 1249.0, 203568.0],\n",
       " ['kam', 263.24, 3.37671111783482e-59, 19.0, 178.0, 1239.0, 203424.0],\n",
       " ['schwäche', 214.46, 1.459450727583522e-48, 2.0, 1.0, 1256.0, 203601.0],\n",
       " ['zerrissen', 214.46, 1.459450727583522e-48, 2.0, 1.0, 1256.0, 203601.0],\n",
       " ['freute', 204.67, 1.995895310913875e-46, 3.0, 4.0, 1255.0, 203598.0],\n",
       " ['blieb', 191.51, 1.490348149739388e-43, 6.0, 23.0, 1252.0, 203579.0],\n",
       " ['hatte', 178.85, 8.640994265826339e-41, 22.0, 337.0, 1236.0, 203265.0],\n",
       " ['empfing', 178.35, 1.1132794706632602e-40, 3.0, 5.0, 1255.0, 203597.0],\n",
       " ['tatsächlich', 177.49, 1.7157317177218107e-40, 9.0, 59.0, 1249.0, 203543.0],\n",
       " ['adramỵttium', 161.85, 4.470747248928355e-37, 1.0, 0.0, 1257.0, 203602.0],\n",
       " ['altersgrenze', 161.85, 4.470747248928355e-37, 1.0, 0.0, 1257.0, 203602.0],\n",
       " ['besagten', 161.85, 4.470747248928355e-37, 1.0, 0.0, 1257.0, 203602.0],\n",
       " ['beschluß', 161.85, 4.470747248928355e-37, 1.0, 0.0, 1257.0, 203602.0],\n",
       " ['entrückung', 161.85, 4.470747248928355e-37, 1.0, 0.0, 1257.0, 203602.0],\n",
       " ['ereigneten', 161.85, 4.470747248928355e-37, 1.0, 0.0, 1257.0, 203602.0],\n",
       " ['erwähnte', 161.85, 4.470747248928355e-37, 1.0, 0.0, 1257.0, 203602.0],\n",
       " ['fastenzeit', 161.85, 4.470747248928355e-37, 1.0, 0.0, 1257.0, 203602.0],\n",
       " ['phạnuëls', 161.85, 4.470747248928355e-37, 1.0, 0.0, 1257.0, 203602.0],\n",
       " ['verhielt', 161.85, 4.470747248928355e-37, 1.0, 0.0, 1257.0, 203602.0],\n",
       " ['zeltmacher', 161.85, 4.470747248928355e-37, 1.0, 0.0, 1257.0, 203602.0],\n",
       " ['zugerechnet', 161.85, 4.470747248928355e-37, 1.0, 0.0, 1257.0, 203602.0],\n",
       " ['nahe', 161.63, 4.992792430585397e-37, 6.0, 28.0, 1252.0, 203574.0],\n",
       " ['sei', 160.69, 7.995825361056573e-37, 16.0, 203.0, 1242.0, 203399.0],\n",
       " ['weil', 127.6, 1.3758838456112553e-29, 17.0, 279.0, 1241.0, 203323.0],\n",
       " ['jener', 118.83, 1.1434751928703837e-27, 8.0, 70.0, 1250.0, 203532.0],\n",
       " ['im', 112.9, 2.2702709309851e-26, 22.0, 493.0, 1236.0, 203109.0],\n",
       " ['konnte', 111.25, 5.211902538580741e-26, 4.0, 18.0, 1254.0, 203584.0],\n",
       " ['stand', 110.76, 6.686469257009324e-26, 8.0, 75.0, 1250.0, 203527.0],\n",
       " ['fanden', 110.63, 7.139583045415675e-26, 5.0, 29.0, 1253.0, 203573.0],\n",
       " ['sehr', 107.19, 4.0414882199186503e-25, 5.0, 30.0, 1253.0, 203572.0],\n",
       " ['sich', 106.92, 4.646173563918799e-25, 31.0, 933.0, 1227.0, 202669.0],\n",
       " ['maßen', 105.25, 1.0782179065943439e-24, 2.0, 4.0, 1256.0, 203598.0],\n",
       " ['sollte', 104.4, 1.6504296035647773e-24, 7.0, 61.0, 1251.0, 203541.0],\n",
       " ['gerade', 103.95, 2.0782897984427387e-24, 5.0, 31.0, 1253.0, 203571.0],\n",
       " ['nun', 103.83, 2.2043684373181824e-24, 22.0, 526.0, 1236.0, 203076.0],\n",
       " ['begann', 94.15, 2.9197398781767677e-22, 9.0, 110.0, 1249.0, 203492.0],\n",
       " ['gewisse', 86.23, 1.6029928634012333e-20, 3.0, 13.0, 1255.0, 203589.0],\n",
       " ['bekundete', 79.93, 3.8870132364419245e-19, 1.0, 1.0, 1257.0, 203601.0],\n",
       " ['erlitt', 79.93, 3.8870132364419245e-19, 1.0, 1.0, 1257.0, 203601.0],\n",
       " ['feststellte', 79.93, 3.8870132364419245e-19, 1.0, 1.0, 1257.0, 203601.0],\n",
       " ['fühlen', 79.93, 3.8870132364419245e-19, 1.0, 1.0, 1257.0, 203601.0]]"
      ]
     },
     "execution_count": 22,
     "metadata": {},
     "output_type": "execute_result"
    }
   ],
   "source": [
    "res"
   ]
  },
  {
   "cell_type": "markdown",
   "metadata": {},
   "source": [
    "# Char-level Chi-Square"
   ]
  },
  {
   "cell_type": "code",
   "execution_count": 23,
   "metadata": {},
   "outputs": [],
   "source": [
    "res=Chi2Alignment('output/fwd_words.txt', 'char')\n"
   ]
  },
  {
   "cell_type": "code",
   "execution_count": 24,
   "metadata": {},
   "outputs": [
    {
     "data": {
      "text/plain": [
       "[['urde@', 21720.05, 0.0, 247.0, 203.0, 1011.0, 203399.0],\n",
       " ['wurde@', 21720.05, 0.0, 247.0, 203.0, 1011.0, 203399.0],\n",
       " ['$war@', 19402.44, 0.0, 279.0, 360.0, 979.0, 203242.0],\n",
       " ['war@', 19004.55, 0.0, 279.0, 373.0, 979.0, 203229.0],\n",
       " ['$wurd', 15629.05, 0.0, 252.0, 393.0, 1006.0, 203209.0],\n",
       " ['$wurde', 15629.05, 0.0, 252.0, 393.0, 1006.0, 203209.0],\n",
       " ['urd', 15629.05, 0.0, 252.0, 393.0, 1006.0, 203209.0],\n",
       " ['urde', 15629.05, 0.0, 252.0, 393.0, 1006.0, 203209.0],\n",
       " ['wurd', 15629.05, 0.0, 252.0, 393.0, 1006.0, 203209.0],\n",
       " ['wurde', 15629.05, 0.0, 252.0, 393.0, 1006.0, 203209.0],\n",
       " ['$wur', 15214.88, 0.0, 252.0, 410.0, 1006.0, 203192.0],\n",
       " ['wur', 15027.26, 0.0, 252.0, 418.0, 1006.0, 203184.0],\n",
       " ['$wu', 13526.43, 0.0, 256.0, 509.0, 1002.0, 203093.0],\n",
       " ['ar@', 13413.96, 0.0, 279.0, 634.0, 979.0, 202968.0],\n",
       " ['wu', 12730.54, 0.0, 256.0, 555.0, 1002.0, 203047.0],\n",
       " ['$war', 11250.2, 0.0, 286.0, 848.0, 972.0, 202754.0],\n",
       " ['war', 10526.66, 0.0, 286.0, 922.0, 972.0, 202680.0],\n",
       " ['rde@', 9782.8, 0.0, 247.0, 726.0, 1011.0, 202876.0],\n",
       " ['de@', 5244.88, 0.0, 256.0, 1612.0, 1002.0, 201990.0],\n",
       " ['$wa', 5132.48, 0.0, 286.0, 2068.0, 972.0, 201534.0],\n",
       " ['ar', 4102.33, 0.0, 286.0, 2590.0, 972.0, 201012.0],\n",
       " ['rde', 3977.52, 0.0, 281.0, 2578.0, 977.0, 201024.0],\n",
       " ['wa', 3962.28, 0.0, 287.0, 2698.0, 971.0, 200904.0],\n",
       " ['$w', 3421.92, 0.0, 603.0, 12478.0, 655.0, 191124.0],\n",
       " ['ur', 3366.65, 0.0, 254.0, 2484.0, 1004.0, 201118.0],\n",
       " ['rd', 2575.51, 0.0, 281.0, 3872.0, 977.0, 199730.0],\n",
       " ['eriet@', 1087.96, 1.3643309780469353e-238, 9.0, 3.0, 1249.0, 203599.0],\n",
       " ['riet@', 811.49, 1.7152902657233102e-178, 9.0, 7.0, 1249.0, 203595.0],\n",
       " ['$gerie', 492.51, 4.0492975455315246e-109, 9.0, 17.0, 1249.0, 203585.0],\n",
       " ['eriet', 492.51, 4.0492975455315246e-109, 9.0, 17.0, 1249.0, 203585.0],\n",
       " ['geriet', 492.51, 4.0492975455315246e-109, 9.0, 17.0, 1249.0, 203585.0],\n",
       " ['gerie', 424.47, 2.5914390499432313e-94, 9.0, 21.0, 1249.0, 203581.0],\n",
       " ['riet', 410.21, 3.299821216495573e-91, 9.0, 22.0, 1249.0, 203580.0],\n",
       " ['r@', 399.37, 7.556786519203051e-89, 379.0, 22709.0, 879.0, 180893.0],\n",
       " ['$fand', 389.38, 1.1291353550970475e-86, 14.0, 63.0, 1244.0, 203539.0],\n",
       " ['erie', 384.27, 1.459783047551841e-85, 9.0, 24.0, 1249.0, 203578.0],\n",
       " ['$begri', 361.31, 1.463388638618968e-80, 9.0, 26.0, 1249.0, 203576.0],\n",
       " ['begri', 361.31, 1.463388638618968e-80, 9.0, 26.0, 1249.0, 203576.0],\n",
       " ['begrif', 361.31, 1.463388638618968e-80, 9.0, 26.0, 1249.0, 203576.0],\n",
       " ['egri', 361.31, 1.463388638618968e-80, 9.0, 26.0, 1249.0, 203576.0],\n",
       " ['egrif', 361.31, 1.463388638618968e-80, 9.0, 26.0, 1249.0, 203576.0],\n",
       " ['egriff', 361.31, 1.463388638618968e-80, 9.0, 26.0, 1249.0, 203576.0],\n",
       " ['$fan', 354.67, 4.0812780924822073e-79, 14.0, 70.0, 1244.0, 203532.0],\n",
       " ['$word', 349.04, 6.874968575342696e-78, 29.0, 311.0, 1229.0, 203291.0],\n",
       " ['$worde', 349.04, 6.874968575342696e-78, 29.0, 311.0, 1229.0, 203291.0],\n",
       " ['iet@', 340.82, 4.228770470161146e-76, 9.0, 28.0, 1249.0, 203574.0],\n",
       " ['de', 333.72, 1.48941344472546e-74, 327.0, 19884.0, 931.0, 183718.0],\n",
       " ['dicht@', 323.69, 2.274105886817308e-72, 2.0, 0.0, 1256.0, 203602.0],\n",
       " ['$fand@', 290.81, 3.318721092523675e-65, 9.0, 34.0, 1249.0, 203568.0],\n",
       " ['$kam@', 263.24, 3.37671111783482e-59, 19.0, 178.0, 1239.0, 203424.0]]"
      ]
     },
     "execution_count": 24,
     "metadata": {},
     "output_type": "execute_result"
    }
   ],
   "source": [
    "res"
   ]
  },
  {
   "cell_type": "code",
   "execution_count": null,
   "metadata": {},
   "outputs": [],
   "source": []
  }
 ],
 "metadata": {
  "kernelspec": {
   "display_name": "Python 3.6",
   "language": "python",
   "name": "python_3.6"
  },
  "language_info": {
   "codemirror_mode": {
    "name": "ipython",
    "version": 3
   },
   "file_extension": ".py",
   "mimetype": "text/x-python",
   "name": "python",
   "nbconvert_exporter": "python",
   "pygments_lexer": "ipython3",
   "version": "3.6.5"
  }
 },
 "nbformat": 4,
 "nbformat_minor": 2
}
